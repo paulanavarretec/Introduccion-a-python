{
 "cells": [
  {
   "cell_type": "markdown",
   "id": "e2abd561",
   "metadata": {},
   "source": [
    "# Prueba - API\n",
    "## Nombre: Paula Navarrete Campos"
   ]
  },
  {
   "cell_type": "markdown",
   "id": "8c326a9f",
   "metadata": {},
   "source": [
    "# 1.\n",
    "\n",
    "Haga una consulta a la API, incluyendo dentro de la request la API Key entregada al \n",
    "momento de registrarse, que recupere la información asociada a las imágenes \n",
    "tomadas por el mars rover. Quédese solo con los 25 primeros registros entregados \n",
    "por la API y descarte los demás."
   ]
  },
  {
   "cell_type": "code",
   "execution_count": 19,
   "id": "0afcd53a",
   "metadata": {},
   "outputs": [
    {
     "name": "stdout",
     "output_type": "stream",
     "text": [
      "<Response [200]>\n"
     ]
    }
   ],
   "source": [
    "import requests\n",
    "import json\n",
    "\n",
    "\n",
    "def response(url):\n",
    "    #url = \"https://reqres.in/api/users\"\n",
    "    payload={}\n",
    "    headers = {}\n",
    "\n",
    "    response = requests.request(\"GET\", url, headers=headers, data=payload)\n",
    "\n",
    "    print(response)\n",
    "    return(response.text)\n",
    "\n",
    "\n",
    "url = \"https://api.nasa.gov/mars-photos/api/v1/rovers/curiosity/latest_photos?api_key=NYxTx2dgU9PK5Rk3ueDQb2DjMaeUxS5E4fjfSarW\"\n",
    "\n",
    "rpta = response(url)\n",
    "results = json.loads(rpta)['latest_photos'][:25]\n"
   ]
  },
  {
   "cell_type": "code",
   "execution_count": 14,
   "id": "174ca358",
   "metadata": {},
   "outputs": [
    {
     "data": {
      "text/plain": [
       "dict_keys(['id', 'sol', 'camera', 'img_src', 'earth_date', 'rover'])"
      ]
     },
     "execution_count": 14,
     "metadata": {},
     "output_type": "execute_result"
    }
   ],
   "source": [
    "results[0].keys()"
   ]
  },
  {
   "cell_type": "markdown",
   "id": "0bda3712",
   "metadata": {},
   "source": [
    "# 2.\n",
    "Genere una lista que contenga solo las URLs de las imágenes encontradas en el \n",
    "diccionario de respuesta filtrado de la consulta del punto anterior. La lista de URLs \n",
    "debe ser generada mediante código, se considerará como respuesta incorrecta el \n",
    "copy/paste manual de las direcciones en una lista.\n"
   ]
  },
  {
   "cell_type": "code",
   "execution_count": 21,
   "id": "1e000baf",
   "metadata": {},
   "outputs": [
    {
     "data": {
      "text/plain": [
       "['https://mars.nasa.gov/msl-raw-images/proj/msl/redops/ods/surface/sol/03292/opgs/edr/fcam/FLB_689753552EDR_F0912132FHAZ00337M_.JPG',\n",
       " 'https://mars.nasa.gov/msl-raw-images/proj/msl/redops/ods/surface/sol/03292/opgs/edr/fcam/FRB_689753552EDR_F0912132FHAZ00337M_.JPG',\n",
       " 'https://mars.nasa.gov/msl-raw-images/proj/msl/redops/ods/surface/sol/03292/opgs/edr/rcam/RLB_689753611EDR_F0912132RHAZ00337M_.JPG',\n",
       " 'https://mars.nasa.gov/msl-raw-images/proj/msl/redops/ods/surface/sol/03292/opgs/edr/rcam/RRB_689753611EDR_F0912132RHAZ00337M_.JPG',\n",
       " 'https://mars.nasa.gov/msl-raw-images/msss/03292/mcam/3292MR1009820001500876C00_DXXX.jpg',\n",
       " 'https://mars.nasa.gov/msl-raw-images/msss/03292/mcam/3292MR1009810181500832C00_DXXX.jpg',\n",
       " 'https://mars.nasa.gov/msl-raw-images/msss/03292/mcam/3292MR1009810171500831C00_DXXX.jpg',\n",
       " 'https://mars.nasa.gov/msl-raw-images/msss/03292/mcam/3292MR1009810161500830C00_DXXX.jpg',\n",
       " 'https://mars.nasa.gov/msl-raw-images/msss/03292/mcam/3292MR1009810151500829C00_DXXX.jpg',\n",
       " 'https://mars.nasa.gov/msl-raw-images/msss/03292/mcam/3292MR1009810141500828C00_DXXX.jpg',\n",
       " 'https://mars.nasa.gov/msl-raw-images/msss/03292/mcam/3292MR1009810131500827C00_DXXX.jpg',\n",
       " 'https://mars.nasa.gov/msl-raw-images/msss/03292/mcam/3292MR1009810121500826C00_DXXX.jpg',\n",
       " 'https://mars.nasa.gov/msl-raw-images/msss/03292/mcam/3292MR1009810111500825C00_DXXX.jpg',\n",
       " 'https://mars.nasa.gov/msl-raw-images/msss/03292/mcam/3292MR1009810101500824C00_DXXX.jpg',\n",
       " 'https://mars.nasa.gov/msl-raw-images/msss/03292/mcam/3292MR1009810091500823C00_DXXX.jpg',\n",
       " 'https://mars.nasa.gov/msl-raw-images/msss/03292/mcam/3292MR1009810081500822C00_DXXX.jpg',\n",
       " 'https://mars.nasa.gov/msl-raw-images/msss/03292/mcam/3292MR1009810071500821C00_DXXX.jpg',\n",
       " 'https://mars.nasa.gov/msl-raw-images/msss/03292/mcam/3292MR1009810061500820C00_DXXX.jpg',\n",
       " 'https://mars.nasa.gov/msl-raw-images/msss/03292/mcam/3292MR1009810051500819C00_DXXX.jpg',\n",
       " 'https://mars.nasa.gov/msl-raw-images/msss/03292/mcam/3292MR1009810041500818C00_DXXX.jpg',\n",
       " 'https://mars.nasa.gov/msl-raw-images/msss/03292/mcam/3292MR1009810031500817C00_DXXX.jpg',\n",
       " 'https://mars.nasa.gov/msl-raw-images/msss/03292/mcam/3292MR1009810021500816C00_DXXX.jpg',\n",
       " 'https://mars.nasa.gov/msl-raw-images/msss/03292/mcam/3292MR1009810011500815C00_DXXX.jpg',\n",
       " 'https://mars.nasa.gov/msl-raw-images/msss/03292/mcam/3292MR1009800101500813C00_DXXX.jpg',\n",
       " 'https://mars.nasa.gov/msl-raw-images/msss/03292/mcam/3292MR1009800091500812C00_DXXX.jpg']"
      ]
     },
     "execution_count": 21,
     "metadata": {},
     "output_type": "execute_result"
    }
   ],
   "source": [
    "url_list = [photo_dict['img_src'] for photo_dict in results]\n",
    "(url_list)"
   ]
  },
  {
   "cell_type": "markdown",
   "id": "666eee80",
   "metadata": {},
   "source": [
    "# 3.\n",
    "Genere una función llamada build_web_page que debe recibir como parámetro una \n",
    "lista con URLs de imágenes en la web y construir una página web que muestre las \n",
    "fotos."
   ]
  },
  {
   "cell_type": "code",
   "execution_count": 49,
   "id": "ba138999",
   "metadata": {},
   "outputs": [
    {
     "name": "stdout",
     "output_type": "stream",
     "text": [
      "<!DOCTYPE html>\n",
      "<html>\n",
      "<head>\n",
      "  <title>Mars Rover Photos</title>\n",
      "</head>\n",
      "<body>\n",
      "<ul>\n",
      "  <li><img src=https://mars.nasa.gov/msl-raw-images/proj/msl/redops/ods/surface/sol/03292/opgs/edr/fcam/FLB_689753552EDR_F0912132FHAZ00337M_.JPG></li>\n",
      "  <li><img src=https://mars.nasa.gov/msl-raw-images/proj/msl/redops/ods/surface/sol/03292/opgs/edr/fcam/FRB_689753552EDR_F0912132FHAZ00337M_.JPG></li>\n",
      "  <li><img src=https://mars.nasa.gov/msl-raw-images/proj/msl/redops/ods/surface/sol/03292/opgs/edr/rcam/RLB_689753611EDR_F0912132RHAZ00337M_.JPG></li>\n",
      "  <li><img src=https://mars.nasa.gov/msl-raw-images/proj/msl/redops/ods/surface/sol/03292/opgs/edr/rcam/RRB_689753611EDR_F0912132RHAZ00337M_.JPG></li>\n",
      "  <li><img src=https://mars.nasa.gov/msl-raw-images/msss/03292/mcam/3292MR1009820001500876C00_DXXX.jpg></li>\n",
      "  <li><img src=https://mars.nasa.gov/msl-raw-images/msss/03292/mcam/3292MR1009810181500832C00_DXXX.jpg></li>\n",
      "  <li><img src=https://mars.nasa.gov/msl-raw-images/msss/03292/mcam/3292MR1009810171500831C00_DXXX.jpg></li>\n",
      "  <li><img src=https://mars.nasa.gov/msl-raw-images/msss/03292/mcam/3292MR1009810161500830C00_DXXX.jpg></li>\n",
      "  <li><img src=https://mars.nasa.gov/msl-raw-images/msss/03292/mcam/3292MR1009810151500829C00_DXXX.jpg></li>\n",
      "  <li><img src=https://mars.nasa.gov/msl-raw-images/msss/03292/mcam/3292MR1009810141500828C00_DXXX.jpg></li>\n",
      "  <li><img src=https://mars.nasa.gov/msl-raw-images/msss/03292/mcam/3292MR1009810131500827C00_DXXX.jpg></li>\n",
      "  <li><img src=https://mars.nasa.gov/msl-raw-images/msss/03292/mcam/3292MR1009810121500826C00_DXXX.jpg></li>\n",
      "  <li><img src=https://mars.nasa.gov/msl-raw-images/msss/03292/mcam/3292MR1009810111500825C00_DXXX.jpg></li>\n",
      "  <li><img src=https://mars.nasa.gov/msl-raw-images/msss/03292/mcam/3292MR1009810101500824C00_DXXX.jpg></li>\n",
      "  <li><img src=https://mars.nasa.gov/msl-raw-images/msss/03292/mcam/3292MR1009810091500823C00_DXXX.jpg></li>\n",
      "  <li><img src=https://mars.nasa.gov/msl-raw-images/msss/03292/mcam/3292MR1009810081500822C00_DXXX.jpg></li>\n",
      "  <li><img src=https://mars.nasa.gov/msl-raw-images/msss/03292/mcam/3292MR1009810071500821C00_DXXX.jpg></li>\n",
      "  <li><img src=https://mars.nasa.gov/msl-raw-images/msss/03292/mcam/3292MR1009810061500820C00_DXXX.jpg></li>\n",
      "  <li><img src=https://mars.nasa.gov/msl-raw-images/msss/03292/mcam/3292MR1009810051500819C00_DXXX.jpg></li>\n",
      "  <li><img src=https://mars.nasa.gov/msl-raw-images/msss/03292/mcam/3292MR1009810041500818C00_DXXX.jpg></li>\n",
      "  <li><img src=https://mars.nasa.gov/msl-raw-images/msss/03292/mcam/3292MR1009810031500817C00_DXXX.jpg></li>\n",
      "  <li><img src=https://mars.nasa.gov/msl-raw-images/msss/03292/mcam/3292MR1009810021500816C00_DXXX.jpg></li>\n",
      "  <li><img src=https://mars.nasa.gov/msl-raw-images/msss/03292/mcam/3292MR1009810011500815C00_DXXX.jpg></li>\n",
      "  <li><img src=https://mars.nasa.gov/msl-raw-images/msss/03292/mcam/3292MR1009800101500813C00_DXXX.jpg></li>\n",
      "  <li><img src=https://mars.nasa.gov/msl-raw-images/msss/03292/mcam/3292MR1009800091500812C00_DXXX.jpg></li>\n",
      "</ul>\n",
      "</body>\n",
      "</html>\n",
      "\n"
     ]
    }
   ],
   "source": [
    "\n",
    "def build_web_page(urls):\n",
    "    \n",
    "    html = '<!DOCTYPE html>\\n'\n",
    "    html += '<html>\\n'\n",
    "    html += '<head>\\n'\n",
    "    html += '  <title>Mars Rover Photos</title>\\n'\n",
    "    html += '</head>\\n'\n",
    "    html += '<body>\\n'\n",
    "    html += '<ul>\\n'\n",
    "    \n",
    "    for url in urls:\n",
    "        html += '  <li><img src=' + url +'></li>\\n'\n",
    "    \n",
    "    html += '</ul>\\n'\n",
    "    html += '</body>\\n'\n",
    "    html += '</html>\\n'\n",
    "   \n",
    "    \n",
    "    return html\n",
    "    \n",
    "html = build_web_page(url_list)\n",
    "print(html)\n",
    "\n",
    "with open(\"MarsRover.htm\", \"w\") as text_file:\n",
    "    text_file.write(html)\n"
   ]
  }
 ],
 "metadata": {
  "kernelspec": {
   "display_name": "Python 3 (ipykernel)",
   "language": "python",
   "name": "python3"
  },
  "language_info": {
   "codemirror_mode": {
    "name": "ipython",
    "version": 3
   },
   "file_extension": ".py",
   "mimetype": "text/x-python",
   "name": "python",
   "nbconvert_exporter": "python",
   "pygments_lexer": "ipython3",
   "version": "3.8.11"
  }
 },
 "nbformat": 4,
 "nbformat_minor": 5
}
