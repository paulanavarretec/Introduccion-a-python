{
 "cells": [
  {
   "cell_type": "markdown",
   "id": "450f54e6",
   "metadata": {},
   "source": [
    "# Desafío 1\n",
    "\n",
    " Obtenga toda la información de los usuarios retornada por la API, guárdela en una\n",
    "variable llamada users_data e imprímala en pantalla.\n"
   ]
  },
  {
   "cell_type": "code",
   "execution_count": 1,
   "id": "9d027fb3",
   "metadata": {},
   "outputs": [
    {
     "name": "stdout",
     "output_type": "stream",
     "text": [
      "<Response [200]>\n",
      "{'id': 1, 'email': 'george.bluth@reqres.in', 'first_name': 'George', 'last_name': 'Bluth', 'avatar': 'https://reqres.in/img/faces/1-image.jpg'}\n",
      "{'id': 2, 'email': 'janet.weaver@reqres.in', 'first_name': 'Janet', 'last_name': 'Weaver', 'avatar': 'https://reqres.in/img/faces/2-image.jpg'}\n",
      "{'id': 3, 'email': 'emma.wong@reqres.in', 'first_name': 'Emma', 'last_name': 'Wong', 'avatar': 'https://reqres.in/img/faces/3-image.jpg'}\n",
      "{'id': 4, 'email': 'eve.holt@reqres.in', 'first_name': 'Eve', 'last_name': 'Holt', 'avatar': 'https://reqres.in/img/faces/4-image.jpg'}\n",
      "{'id': 5, 'email': 'charles.morris@reqres.in', 'first_name': 'Charles', 'last_name': 'Morris', 'avatar': 'https://reqres.in/img/faces/5-image.jpg'}\n",
      "{'id': 6, 'email': 'tracey.ramos@reqres.in', 'first_name': 'Tracey', 'last_name': 'Ramos', 'avatar': 'https://reqres.in/img/faces/6-image.jpg'}\n"
     ]
    }
   ],
   "source": [
    "import requests\n",
    "import json\n",
    "\n",
    "def response(url):\n",
    "    #url = \"https://reqres.in/api/users\"\n",
    "    payload={}\n",
    "    headers = {}\n",
    "\n",
    "    response = requests.request(\"GET\", url, headers=headers, data=payload)\n",
    "\n",
    "    print(response)\n",
    "    return(response.text)\n",
    "rpta = response(\"https://reqres.in/api/users\")\n",
    "\n",
    "results = json.loads(rpta)\n",
    "users_data = results['data']\n",
    "for user in users_data:\n",
    "    print(user)"
   ]
  },
  {
   "cell_type": "markdown",
   "id": "762ce366",
   "metadata": {},
   "source": [
    "# Desafío 2\n",
    "\n",
    "Cree un usuario que tenga de nombre Ignacio y de trabajo Profesor. Guarde el\n",
    "diccionario de respuesta en una variable llamada created_user e imprímala en\n",
    "pantalla.\n"
   ]
  },
  {
   "cell_type": "code",
   "execution_count": 2,
   "id": "a944cc84",
   "metadata": {},
   "outputs": [
    {
     "name": "stdout",
     "output_type": "stream",
     "text": [
      "<Response [201]>\n",
      "{'nombre': 'Ignacio', 'trabajo': 'Profesor', 'id': '318', 'createdAt': '2021-11-09T04:30:42.843Z'}\n"
     ]
    }
   ],
   "source": [
    "import requests\n",
    "import json\n",
    "\n",
    "url = \"https://reqres.in/api/users\"\n",
    "\n",
    "def post(url):\n",
    "    payload = json.dumps({\n",
    "      \"nombre\"  : \"Ignacio\",\n",
    "      \"trabajo\" : \"Profesor\"\n",
    "    })\n",
    "    headers = {\n",
    "      'Content-Type': 'application/json'\n",
    "    }\n",
    "\n",
    "    response = requests.request(\"POST\", url, headers=headers, data=payload)\n",
    "    \n",
    "    print(response)\n",
    "    return(response.text)\n",
    "\n",
    "created_user = json.loads(post(url))\n",
    "print(created_user)"
   ]
  },
  {
   "cell_type": "markdown",
   "id": "9706f87d",
   "metadata": {},
   "source": [
    "# Desafío 3\n",
    "\n",
    "Actualice un usuario llamado morpheus para que tenga un campo llamado\n",
    "residence igual a zion. Guarde el diccionario de respuesta en una variable llamada\n",
    "updated_user e imprímala en pantalla."
   ]
  },
  {
   "cell_type": "code",
   "execution_count": 3,
   "id": "076a7e87",
   "metadata": {},
   "outputs": [
    {
     "name": "stdout",
     "output_type": "stream",
     "text": [
      "<Response [200]>\n",
      "{\"nombre\":\"Morpheus\",\"residence\":\"Zion\",\"updatedAt\":\"2021-11-09T04:30:43.781Z\"}\n"
     ]
    }
   ],
   "source": [
    "import requests\n",
    "import json\n",
    "\n",
    "url = \"https://reqres.in/api/users\"\n",
    "def update(url):\n",
    "    \n",
    "\n",
    "    payload = json.dumps({\n",
    "      \"nombre\": \"Morpheus\",\n",
    "      \"residence\": \"Zion\"\n",
    "    })\n",
    "    headers = {\n",
    "      'Content-Type': 'application/json'\n",
    "    }\n",
    "\n",
    "    response = requests.request(\"PUT\", url, headers=headers, data=payload)\n",
    "\n",
    "    print(response)\n",
    "    return(response.text)\n",
    "\n",
    "updated_user = update(url)\n",
    "print(updated_user)"
   ]
  },
  {
   "cell_type": "markdown",
   "id": "82f7b69f",
   "metadata": {},
   "source": [
    "# Desafío 4\n",
    "\n",
    "Elimine un usuario llamado Pepe. Imprima el código de respuesta en pantalla.\n"
   ]
  },
  {
   "cell_type": "code",
   "execution_count": 4,
   "id": "303a932f",
   "metadata": {},
   "outputs": [
    {
     "name": "stdout",
     "output_type": "stream",
     "text": [
      "<Response [204]>\n"
     ]
    }
   ],
   "source": [
    "import requests\n",
    "import json\n",
    "\n",
    "url = \"https://reqres.in/api/users\"\n",
    "def delete(url):\n",
    "    \n",
    "\n",
    "    payload = json.dumps({\n",
    "      \"nombre\": \"Pepe\"\n",
    "    })\n",
    "    headers = {\n",
    "      'Content-Type': 'application/json'\n",
    "    }\n",
    "\n",
    "    response = requests.request(\"DELETE\", url, headers=headers, data=payload)\n",
    "\n",
    "    print(response)\n",
    "    return(response.text)\n",
    "\n",
    "deleted_user = delete(url)"
   ]
  }
 ],
 "metadata": {
  "kernelspec": {
   "display_name": "Python 3 (ipykernel)",
   "language": "python",
   "name": "python3"
  },
  "language_info": {
   "codemirror_mode": {
    "name": "ipython",
    "version": 3
   },
   "file_extension": ".py",
   "mimetype": "text/x-python",
   "name": "python",
   "nbconvert_exporter": "python",
   "pygments_lexer": "ipython3",
   "version": "3.8.11"
  }
 },
 "nbformat": 4,
 "nbformat_minor": 5
}
